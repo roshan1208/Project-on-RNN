{
 "cells": [
  {
   "cell_type": "code",
   "execution_count": 1,
   "metadata": {},
   "outputs": [],
   "source": [
    "import numpy as np\n",
    "import pandas as pd\n",
    "import matplotlib.pyplot as plt\n",
    "import seaborn as sns\n",
    "%matplotlib inline"
   ]
  },
  {
   "cell_type": "code",
   "execution_count": 2,
   "metadata": {},
   "outputs": [],
   "source": [
    "df_train = pd.read_csv('Google_Stock_Price_Train.csv', parse_dates=True, index_col='Date')"
   ]
  },
  {
   "cell_type": "code",
   "execution_count": 3,
   "metadata": {},
   "outputs": [],
   "source": [
    "df_test = pd.read_csv('Google_Stock_Price_Test.csv', parse_dates=True, index_col='Date')"
   ]
  },
  {
   "cell_type": "code",
   "execution_count": 4,
   "metadata": {},
   "outputs": [
    {
     "name": "stdout",
     "output_type": "stream",
     "text": [
      "<class 'pandas.core.frame.DataFrame'>\n",
      "DatetimeIndex: 1258 entries, 2012-01-03 to 2016-12-30\n",
      "Data columns (total 5 columns):\n",
      " #   Column  Non-Null Count  Dtype  \n",
      "---  ------  --------------  -----  \n",
      " 0   Open    1258 non-null   float64\n",
      " 1   High    1258 non-null   float64\n",
      " 2   Low     1258 non-null   float64\n",
      " 3   Close   1258 non-null   object \n",
      " 4   Volume  1258 non-null   object \n",
      "dtypes: float64(3), object(2)\n",
      "memory usage: 59.0+ KB\n"
     ]
    }
   ],
   "source": [
    "df_train.info()"
   ]
  },
  {
   "cell_type": "code",
   "execution_count": 5,
   "metadata": {},
   "outputs": [
    {
     "data": {
      "text/html": [
       "<div>\n",
       "<style scoped>\n",
       "    .dataframe tbody tr th:only-of-type {\n",
       "        vertical-align: middle;\n",
       "    }\n",
       "\n",
       "    .dataframe tbody tr th {\n",
       "        vertical-align: top;\n",
       "    }\n",
       "\n",
       "    .dataframe thead th {\n",
       "        text-align: right;\n",
       "    }\n",
       "</style>\n",
       "<table border=\"1\" class=\"dataframe\">\n",
       "  <thead>\n",
       "    <tr style=\"text-align: right;\">\n",
       "      <th></th>\n",
       "      <th>Open</th>\n",
       "      <th>High</th>\n",
       "      <th>Low</th>\n",
       "      <th>Close</th>\n",
       "      <th>Volume</th>\n",
       "    </tr>\n",
       "    <tr>\n",
       "      <th>Date</th>\n",
       "      <th></th>\n",
       "      <th></th>\n",
       "      <th></th>\n",
       "      <th></th>\n",
       "      <th></th>\n",
       "    </tr>\n",
       "  </thead>\n",
       "  <tbody>\n",
       "    <tr>\n",
       "      <th>2012-01-03</th>\n",
       "      <td>325.25</td>\n",
       "      <td>332.83</td>\n",
       "      <td>324.97</td>\n",
       "      <td>663.59</td>\n",
       "      <td>7,380,500</td>\n",
       "    </tr>\n",
       "    <tr>\n",
       "      <th>2012-01-04</th>\n",
       "      <td>331.27</td>\n",
       "      <td>333.87</td>\n",
       "      <td>329.08</td>\n",
       "      <td>666.45</td>\n",
       "      <td>5,749,400</td>\n",
       "    </tr>\n",
       "    <tr>\n",
       "      <th>2012-01-05</th>\n",
       "      <td>329.83</td>\n",
       "      <td>330.75</td>\n",
       "      <td>326.89</td>\n",
       "      <td>657.21</td>\n",
       "      <td>6,590,300</td>\n",
       "    </tr>\n",
       "    <tr>\n",
       "      <th>2012-01-06</th>\n",
       "      <td>328.34</td>\n",
       "      <td>328.77</td>\n",
       "      <td>323.68</td>\n",
       "      <td>648.24</td>\n",
       "      <td>5,405,900</td>\n",
       "    </tr>\n",
       "    <tr>\n",
       "      <th>2012-01-09</th>\n",
       "      <td>322.04</td>\n",
       "      <td>322.29</td>\n",
       "      <td>309.46</td>\n",
       "      <td>620.76</td>\n",
       "      <td>11,688,800</td>\n",
       "    </tr>\n",
       "  </tbody>\n",
       "</table>\n",
       "</div>"
      ],
      "text/plain": [
       "              Open    High     Low   Close      Volume\n",
       "Date                                                  \n",
       "2012-01-03  325.25  332.83  324.97  663.59   7,380,500\n",
       "2012-01-04  331.27  333.87  329.08  666.45   5,749,400\n",
       "2012-01-05  329.83  330.75  326.89  657.21   6,590,300\n",
       "2012-01-06  328.34  328.77  323.68  648.24   5,405,900\n",
       "2012-01-09  322.04  322.29  309.46  620.76  11,688,800"
      ]
     },
     "execution_count": 5,
     "metadata": {},
     "output_type": "execute_result"
    }
   ],
   "source": [
    "df_train.head()"
   ]
  },
  {
   "cell_type": "code",
   "execution_count": 6,
   "metadata": {},
   "outputs": [],
   "source": [
    "df_train['Close'] = df_train['Close'].apply(lambda x: float(''.join(x.split(','))))"
   ]
  },
  {
   "cell_type": "code",
   "execution_count": 7,
   "metadata": {},
   "outputs": [],
   "source": [
    "df_train['Volume'] = df_train['Volume'].apply(lambda x: float(''.join(x.split(','))))"
   ]
  },
  {
   "cell_type": "code",
   "execution_count": 8,
   "metadata": {},
   "outputs": [
    {
     "name": "stdout",
     "output_type": "stream",
     "text": [
      "<class 'pandas.core.frame.DataFrame'>\n",
      "DatetimeIndex: 1258 entries, 2012-01-03 to 2016-12-30\n",
      "Data columns (total 5 columns):\n",
      " #   Column  Non-Null Count  Dtype  \n",
      "---  ------  --------------  -----  \n",
      " 0   Open    1258 non-null   float64\n",
      " 1   High    1258 non-null   float64\n",
      " 2   Low     1258 non-null   float64\n",
      " 3   Close   1258 non-null   float64\n",
      " 4   Volume  1258 non-null   float64\n",
      "dtypes: float64(5)\n",
      "memory usage: 59.0 KB\n"
     ]
    }
   ],
   "source": [
    "df_train.info()"
   ]
  },
  {
   "cell_type": "code",
   "execution_count": 9,
   "metadata": {},
   "outputs": [
    {
     "data": {
      "text/plain": [
       "<AxesSubplot:xlabel='Date'>"
      ]
     },
     "execution_count": 9,
     "metadata": {},
     "output_type": "execute_result"
    },
    {
     "data": {
      "image/png": "[encoded data removed]",
      "text/plain": [
       "<Figure size 432x288 with 1 Axes>"
      ]
     },
     "metadata": {
      "needs_background": "light"
     },
     "output_type": "display_data"
    }
   ],
   "source": [
    "df_train['Volume'].plot()"
   ]
  },
  {
   "cell_type": "code",
   "execution_count": 10,
   "metadata": {},
   "outputs": [
    {
     "data": {
      "text/plain": [
       "<AxesSubplot:xlabel='Date'>"
      ]
     },
     "execution_count": 10,
     "metadata": {},
     "output_type": "execute_result"
    },
    {
     "data": {
      "image/png": "[encoded data removed]",
      "text/plain": [
       "<Figure size 432x288 with 1 Axes>"
      ]
     },
     "metadata": {
      "needs_background": "light"
     },
     "output_type": "display_data"
    }
   ],
   "source": [
    "df_train['Open'].plot()"
   ]
  },
  {
   "cell_type": "code",
   "execution_count": 11,
   "metadata": {},
   "outputs": [
    {
     "name": "stdout",
     "output_type": "stream",
     "text": [
      "<class 'pandas.core.frame.DataFrame'>\n",
      "DatetimeIndex: 20 entries, 2017-01-03 to 2017-01-31\n",
      "Data columns (total 5 columns):\n",
      " #   Column  Non-Null Count  Dtype  \n",
      "---  ------  --------------  -----  \n",
      " 0   Open    20 non-null     float64\n",
      " 1   High    20 non-null     float64\n",
      " 2   Low     20 non-null     float64\n",
      " 3   Close   20 non-null     float64\n",
      " 4   Volume  20 non-null     object \n",
      "dtypes: float64(4), object(1)\n",
      "memory usage: 960.0+ bytes\n"
     ]
    }
   ],
   "source": [
    "df_test.info()"
   ]
  },
  {
   "cell_type": "code",
   "execution_count": 12,
   "metadata": {},
   "outputs": [],
   "source": [
    "df_test['Volume'] = df_test['Volume'].apply(lambda x: float(''.join(x.split(','))))"
   ]
  },
  {
   "cell_type": "code",
   "execution_count": 13,
   "metadata": {},
   "outputs": [],
   "source": [
    "test_size = len(df_test)"
   ]
  },
  {
   "cell_type": "code",
   "execution_count": 14,
   "metadata": {},
   "outputs": [
    {
     "data": {
      "text/plain": [
       "20"
      ]
     },
     "execution_count": 14,
     "metadata": {},
     "output_type": "execute_result"
    }
   ],
   "source": [
    "test_size"
   ]
  },
  {
   "cell_type": "code",
   "execution_count": 15,
   "metadata": {},
   "outputs": [],
   "source": [
    "from sklearn.preprocessing import MinMaxScaler"
   ]
  },
  {
   "cell_type": "code",
   "execution_count": 16,
   "metadata": {},
   "outputs": [],
   "source": [
    "scaler = MinMaxScaler()"
   ]
  },
  {
   "cell_type": "code",
   "execution_count": 17,
   "metadata": {},
   "outputs": [
    {
     "data": {
      "text/plain": [
       "MinMaxScaler()"
      ]
     },
     "execution_count": 17,
     "metadata": {},
     "output_type": "execute_result"
    }
   ],
   "source": [
    "scaler.fit(df_train)"
   ]
  },
  {
   "cell_type": "code",
   "execution_count": 18,
   "metadata": {},
   "outputs": [],
   "source": [
    "scaled_train = scaler.transform(df_train)\n",
    "scaled_test = scaler.transform(df_test)"
   ]
  },
  {
   "cell_type": "code",
   "execution_count": 19,
   "metadata": {},
   "outputs": [],
   "source": [
    "from tensorflow.keras.preprocessing.sequence import TimeseriesGenerator"
   ]
  },
  {
   "cell_type": "code",
   "execution_count": 21,
   "metadata": {},
   "outputs": [],
   "source": [
    "length = 10"
   ]
  },
  {
   "cell_type": "code",
   "execution_count": 22,
   "metadata": {},
   "outputs": [],
   "source": [
    "generator = TimeseriesGenerator(scaled_train, scaled_train, length = length , batch_size=1)\n",
    "val_generator = TimeseriesGenerator(scaled_test, scaled_test, length=length, batch_size=1)"
   ]
  },
  {
   "cell_type": "code",
   "execution_count": 23,
   "metadata": {},
   "outputs": [
    {
     "data": {
      "text/plain": [
       "(1258, 5)"
      ]
     },
     "execution_count": 23,
     "metadata": {},
     "output_type": "execute_result"
    }
   ],
   "source": [
    "scaled_train.shape"
   ]
  },
  {
   "cell_type": "code",
   "execution_count": 24,
   "metadata": {},
   "outputs": [],
   "source": [
    "n_features = scaled_train.shape[1]"
   ]
  },
  {
   "cell_type": "code",
   "execution_count": 25,
   "metadata": {},
   "outputs": [],
   "source": [
    "from tensorflow.keras.models import Sequential"
   ]
  },
  {
   "cell_type": "code",
   "execution_count": 26,
   "metadata": {},
   "outputs": [],
   "source": [
    "from tensorflow.keras.layers import Dense, LSTM, Dropout"
   ]
  },
  {
   "cell_type": "code",
   "execution_count": 27,
   "metadata": {},
   "outputs": [],
   "source": [
    "model = Sequential()\n",
    "\n",
    "model.add(LSTM(50, activation='relu',return_sequences=True, input_shape=(length, n_features)))\n",
    "model.add(Dropout(0.1))\n",
    "model.add(LSTM(50, activation='relu',return_sequences=True, input_shape=(length, n_features)))\n",
    "model.add(Dropout(0.1))\n",
    "model.add(LSTM(50, activation='relu', input_shape=(length, n_features)))\n",
    "model.add(Dense(n_features))\n",
    "\n",
    "model.compile(optimizer='adam', loss = 'mse')"
   ]
  },
  {
   "cell_type": "code",
   "execution_count": 28,
   "metadata": {},
   "outputs": [
    {
     "name": "stdout",
     "output_type": "stream",
     "text": [
      "Model: \"sequential\"\n",
      "_________________________________________________________________\n",
      "Layer (type)                 Output Shape              Param #   \n",
      "=================================================================\n",
      "lstm (LSTM)                  (None, 10, 50)            11200     \n",
      "_________________________________________________________________\n",
      "dropout (Dropout)            (None, 10, 50)            0         \n",
      "_________________________________________________________________\n",
      "lstm_1 (LSTM)                (None, 10, 50)            20200     \n",
      "_________________________________________________________________\n",
      "dropout_1 (Dropout)          (None, 10, 50)            0         \n",
      "_________________________________________________________________\n",
      "lstm_2 (LSTM)                (None, 50)                20200     \n",
      "_________________________________________________________________\n",
      "dense (Dense)                (None, 5)                 255       \n",
      "=================================================================\n",
      "Total params: 51,855\n",
      "Trainable params: 51,855\n",
      "Non-trainable params: 0\n",
      "_________________________________________________________________\n"
     ]
    }
   ],
   "source": [
    "model.summary()"
   ]
  },
  {
   "cell_type": "code",
   "execution_count": 29,
   "metadata": {},
   "outputs": [],
   "source": [
    "from tensorflow.keras.callbacks import EarlyStopping"
   ]
  },
  {
   "cell_type": "code",
   "execution_count": 34,
   "metadata": {},
   "outputs": [],
   "source": [
    "early = EarlyStopping(monitor='val_loss', patience=1)"
   ]
  },
  {
   "cell_type": "code",
   "execution_count": 35,
   "metadata": {},
   "outputs": [
    {
     "name": "stdout",
     "output_type": "stream",
     "text": [
      "WARNING:tensorflow:sample_weight modes were coerced from\n",
      "  ...\n",
      "    to  \n",
      "  ['...']\n",
      "WARNING:tensorflow:sample_weight modes were coerced from\n",
      "  ...\n",
      "    to  \n",
      "  ['...']\n",
      "Train for 1248 steps, validate for 10 steps\n",
      "Epoch 1/8\n",
      "1248/1248 [==============================] - 63s 51ms/step - loss: 0.0030 - val_loss: 0.0069\n",
      "Epoch 2/8\n",
      "1248/1248 [==============================] - 64s 52ms/step - loss: 0.0028 - val_loss: 0.0042\n",
      "Epoch 3/8\n",
      "1248/1248 [==============================] - 66s 53ms/step - loss: 0.0026 - val_loss: 0.0024\n",
      "Epoch 4/8\n",
      "1248/1248 [==============================] - 65s 52ms/step - loss: 0.0025 - val_loss: 0.0057\n"
     ]
    },
    {
     "data": {
      "text/plain": [
       "<tensorflow.python.keras.callbacks.History at 0x2b85e78c6c8>"
      ]
     },
     "execution_count": 35,
     "metadata": {},
     "output_type": "execute_result"
    }
   ],
   "source": [
    "model.fit(generator, \n",
    "          epochs=8, \n",
    "          validation_data=val_generator, \n",
    "          callbacks = [early]\n",
    "         )"
   ]
  },
  {
   "cell_type": "code",
   "execution_count": 36,
   "metadata": {},
   "outputs": [],
   "source": [
    "loss = pd.DataFrame(model.history.history)"
   ]
  },
  {
   "cell_type": "code",
   "execution_count": 37,
   "metadata": {},
   "outputs": [
    {
     "data": {
      "text/plain": [
       "<AxesSubplot:>"
      ]
     },
     "execution_count": 37,
     "metadata": {},
     "output_type": "execute_result"
    },
    {
     "data": {
      "image/png": "[encoded data removed]",
      "text/plain": [
       "<Figure size 432x288 with 1 Axes>"
      ]
     },
     "metadata": {
      "needs_background": "light"
     },
     "output_type": "display_data"
    }
   ],
   "source": [
    "loss.plot()"
   ]
  },
  {
   "cell_type": "code",
   "execution_count": 38,
   "metadata": {},
   "outputs": [],
   "source": [
    "test_predictions = []\n",
    "n_features = scaled_train.shape[1]\n",
    "first_eval_batch = scaled_train[-length:]\n",
    "current_batch = first_eval_batch.reshape((1, length, n_features))\n",
    "\n",
    "for i in range(len(df_test)):\n",
    "    \n",
    "    # get prediction 1 time stamp ahead ([0] is for grabbing just the number instead of [array])\n",
    "    current_pred = model.predict(current_batch)[0]\n",
    "    \n",
    "    # store prediction\n",
    "    test_predictions.append(current_pred) \n",
    "    \n",
    "    # update batch to now include prediction and drop first value\n",
    "    current_batch = np.append(current_batch[:,1:,:],[[current_pred]],axis=1)"
   ]
  },
  {
   "cell_type": "code",
   "execution_count": 39,
   "metadata": {},
   "outputs": [],
   "source": [
    "true_prediction = scaler.inverse_transform(test_predictions)"
   ]
  },
  {
   "cell_type": "code",
   "execution_count": 40,
   "metadata": {},
   "outputs": [
    {
     "data": {
      "text/plain": [
       "array([[7.50489295e+02, 7.61828943e+02, 7.43179063e+02, 7.57935139e+02,\n",
       "        2.08462877e+06],\n",
       "       [7.44776052e+02, 7.56137274e+02, 7.36920379e+02, 7.50080491e+02,\n",
       "        2.10365779e+06],\n",
       "       [7.37940986e+02, 7.49358465e+02, 7.29524182e+02, 7.40404071e+02,\n",
       "        2.12671199e+06],\n",
       "       [7.30961799e+02, 7.42409604e+02, 7.22091862e+02, 7.30967348e+02,\n",
       "        2.14606974e+06],\n",
       "       [7.24361723e+02, 7.35803400e+02, 7.15183395e+02, 7.22532208e+02,\n",
       "        2.16004682e+06],\n",
       "       [7.18263570e+02, 7.29671857e+02, 7.08904573e+02, 7.15352231e+02,\n",
       "        2.16894925e+06],\n",
       "       [7.12842028e+02, 7.24208519e+02, 7.03440166e+02, 7.09783221e+02,\n",
       "        2.17324568e+06],\n",
       "       [7.08433849e+02, 7.19754635e+02, 6.99012108e+02, 7.05490373e+02,\n",
       "        2.17454201e+06],\n",
       "       [7.04244864e+02, 7.15538146e+02, 6.94832321e+02, 7.01686801e+02,\n",
       "        2.17461941e+06],\n",
       "       [7.00377730e+02, 7.11659015e+02, 6.90991742e+02, 6.98353453e+02,\n",
       "        2.17420435e+06],\n",
       "       [6.96834693e+02, 7.08118901e+02, 6.87475173e+02, 6.95528281e+02,\n",
       "        2.17300699e+06],\n",
       "       [6.93835424e+02, 7.05113196e+02, 6.84531987e+02, 6.92904507e+02,\n",
       "        2.17260477e+06],\n",
       "       [6.91113086e+02, 7.02391102e+02, 6.81872818e+02, 6.90633250e+02,\n",
       "        2.17199065e+06],\n",
       "       [6.88629999e+02, 6.99910871e+02, 6.79452510e+02, 6.88587136e+02,\n",
       "        2.17146676e+06],\n",
       "       [6.86345663e+02, 6.97629607e+02, 6.77227987e+02, 6.86693805e+02,\n",
       "        2.17115588e+06],\n",
       "       [6.84241558e+02, 6.95526820e+02, 6.75181627e+02, 6.84956545e+02,\n",
       "        2.17092501e+06],\n",
       "       [6.82317523e+02, 6.93602128e+02, 6.73311480e+02, 6.83345470e+02,\n",
       "        2.17087626e+06],\n",
       "       [6.80547318e+02, 6.91829932e+02, 6.71592466e+02, 6.81843150e+02,\n",
       "        2.17093989e+06],\n",
       "       [6.78901240e+02, 6.90181637e+02, 6.69994755e+02, 6.80433883e+02,\n",
       "        2.17109858e+06],\n",
       "       [6.77369324e+02, 6.88646708e+02, 6.68508341e+02, 6.79104869e+02,\n",
       "        2.17135439e+06]])"
      ]
     },
     "execution_count": 40,
     "metadata": {},
     "output_type": "execute_result"
    }
   ],
   "source": [
    "true_prediction"
   ]
  },
  {
   "cell_type": "code",
   "execution_count": 41,
   "metadata": {},
   "outputs": [
    {
     "data": {
      "text/html": [
       "<div>\n",
       "<style scoped>\n",
       "    .dataframe tbody tr th:only-of-type {\n",
       "        vertical-align: middle;\n",
       "    }\n",
       "\n",
       "    .dataframe tbody tr th {\n",
       "        vertical-align: top;\n",
       "    }\n",
       "\n",
       "    .dataframe thead th {\n",
       "        text-align: right;\n",
       "    }\n",
       "</style>\n",
       "<table border=\"1\" class=\"dataframe\">\n",
       "  <thead>\n",
       "    <tr style=\"text-align: right;\">\n",
       "      <th></th>\n",
       "      <th>Open</th>\n",
       "      <th>High</th>\n",
       "      <th>Low</th>\n",
       "      <th>Close</th>\n",
       "      <th>Volume</th>\n",
       "    </tr>\n",
       "    <tr>\n",
       "      <th>Date</th>\n",
       "      <th></th>\n",
       "      <th></th>\n",
       "      <th></th>\n",
       "      <th></th>\n",
       "      <th></th>\n",
       "    </tr>\n",
       "  </thead>\n",
       "  <tbody>\n",
       "    <tr>\n",
       "      <th>2016-12-23</th>\n",
       "      <td>790.90</td>\n",
       "      <td>792.74</td>\n",
       "      <td>787.28</td>\n",
       "      <td>789.91</td>\n",
       "      <td>623400.0</td>\n",
       "    </tr>\n",
       "    <tr>\n",
       "      <th>2016-12-27</th>\n",
       "      <td>790.68</td>\n",
       "      <td>797.86</td>\n",
       "      <td>787.66</td>\n",
       "      <td>791.55</td>\n",
       "      <td>789100.0</td>\n",
       "    </tr>\n",
       "    <tr>\n",
       "      <th>2016-12-28</th>\n",
       "      <td>793.70</td>\n",
       "      <td>794.23</td>\n",
       "      <td>783.20</td>\n",
       "      <td>785.05</td>\n",
       "      <td>1153800.0</td>\n",
       "    </tr>\n",
       "    <tr>\n",
       "      <th>2016-12-29</th>\n",
       "      <td>783.33</td>\n",
       "      <td>785.93</td>\n",
       "      <td>778.92</td>\n",
       "      <td>782.79</td>\n",
       "      <td>744300.0</td>\n",
       "    </tr>\n",
       "    <tr>\n",
       "      <th>2016-12-30</th>\n",
       "      <td>782.75</td>\n",
       "      <td>782.78</td>\n",
       "      <td>770.41</td>\n",
       "      <td>771.82</td>\n",
       "      <td>1770000.0</td>\n",
       "    </tr>\n",
       "  </tbody>\n",
       "</table>\n",
       "</div>"
      ],
      "text/plain": [
       "              Open    High     Low   Close     Volume\n",
       "Date                                                 \n",
       "2016-12-23  790.90  792.74  787.28  789.91   623400.0\n",
       "2016-12-27  790.68  797.86  787.66  791.55   789100.0\n",
       "2016-12-28  793.70  794.23  783.20  785.05  1153800.0\n",
       "2016-12-29  783.33  785.93  778.92  782.79   744300.0\n",
       "2016-12-30  782.75  782.78  770.41  771.82  1770000.0"
      ]
     },
     "execution_count": 41,
     "metadata": {},
     "output_type": "execute_result"
    }
   ],
   "source": [
    "df_train.tail()"
   ]
  },
  {
   "cell_type": "code",
   "execution_count": 42,
   "metadata": {},
   "outputs": [],
   "source": [
    "ind = df_test.index"
   ]
  },
  {
   "cell_type": "code",
   "execution_count": null,
   "metadata": {},
   "outputs": [],
   "source": []
  },
  {
   "cell_type": "code",
   "execution_count": 43,
   "metadata": {},
   "outputs": [],
   "source": [
    "true_prediction = pd.DataFrame(true_prediction,index=ind, columns=['P_Open', 'P_High', 'P_Low', 'P_Close', 'P_Volume'])"
   ]
  },
  {
   "cell_type": "code",
   "execution_count": 44,
   "metadata": {},
   "outputs": [
    {
     "data": {
      "text/html": [
       "<div>\n",
       "<style scoped>\n",
       "    .dataframe tbody tr th:only-of-type {\n",
       "        vertical-align: middle;\n",
       "    }\n",
       "\n",
       "    .dataframe tbody tr th {\n",
       "        vertical-align: top;\n",
       "    }\n",
       "\n",
       "    .dataframe thead th {\n",
       "        text-align: right;\n",
       "    }\n",
       "</style>\n",
       "<table border=\"1\" class=\"dataframe\">\n",
       "  <thead>\n",
       "    <tr style=\"text-align: right;\">\n",
       "      <th></th>\n",
       "      <th>P_Open</th>\n",
       "      <th>P_High</th>\n",
       "      <th>P_Low</th>\n",
       "      <th>P_Close</th>\n",
       "      <th>P_Volume</th>\n",
       "    </tr>\n",
       "    <tr>\n",
       "      <th>Date</th>\n",
       "      <th></th>\n",
       "      <th></th>\n",
       "      <th></th>\n",
       "      <th></th>\n",
       "      <th></th>\n",
       "    </tr>\n",
       "  </thead>\n",
       "  <tbody>\n",
       "    <tr>\n",
       "      <th>2017-01-03</th>\n",
       "      <td>750.489295</td>\n",
       "      <td>761.828943</td>\n",
       "      <td>743.179063</td>\n",
       "      <td>757.935139</td>\n",
       "      <td>2.084629e+06</td>\n",
       "    </tr>\n",
       "    <tr>\n",
       "      <th>2017-01-04</th>\n",
       "      <td>744.776052</td>\n",
       "      <td>756.137274</td>\n",
       "      <td>736.920379</td>\n",
       "      <td>750.080491</td>\n",
       "      <td>2.103658e+06</td>\n",
       "    </tr>\n",
       "    <tr>\n",
       "      <th>2017-01-05</th>\n",
       "      <td>737.940986</td>\n",
       "      <td>749.358465</td>\n",
       "      <td>729.524182</td>\n",
       "      <td>740.404071</td>\n",
       "      <td>2.126712e+06</td>\n",
       "    </tr>\n",
       "    <tr>\n",
       "      <th>2017-01-06</th>\n",
       "      <td>730.961799</td>\n",
       "      <td>742.409604</td>\n",
       "      <td>722.091862</td>\n",
       "      <td>730.967348</td>\n",
       "      <td>2.146070e+06</td>\n",
       "    </tr>\n",
       "    <tr>\n",
       "      <th>2017-01-09</th>\n",
       "      <td>724.361723</td>\n",
       "      <td>735.803400</td>\n",
       "      <td>715.183395</td>\n",
       "      <td>722.532208</td>\n",
       "      <td>2.160047e+06</td>\n",
       "    </tr>\n",
       "    <tr>\n",
       "      <th>2017-01-10</th>\n",
       "      <td>718.263570</td>\n",
       "      <td>729.671857</td>\n",
       "      <td>708.904573</td>\n",
       "      <td>715.352231</td>\n",
       "      <td>2.168949e+06</td>\n",
       "    </tr>\n",
       "    <tr>\n",
       "      <th>2017-01-11</th>\n",
       "      <td>712.842028</td>\n",
       "      <td>724.208519</td>\n",
       "      <td>703.440166</td>\n",
       "      <td>709.783221</td>\n",
       "      <td>2.173246e+06</td>\n",
       "    </tr>\n",
       "    <tr>\n",
       "      <th>2017-01-12</th>\n",
       "      <td>708.433849</td>\n",
       "      <td>719.754635</td>\n",
       "      <td>699.012108</td>\n",
       "      <td>705.490373</td>\n",
       "      <td>2.174542e+06</td>\n",
       "    </tr>\n",
       "    <tr>\n",
       "      <th>2017-01-13</th>\n",
       "      <td>704.244864</td>\n",
       "      <td>715.538146</td>\n",
       "      <td>694.832321</td>\n",
       "      <td>701.686801</td>\n",
       "      <td>2.174619e+06</td>\n",
       "    </tr>\n",
       "    <tr>\n",
       "      <th>2017-01-17</th>\n",
       "      <td>700.377730</td>\n",
       "      <td>711.659015</td>\n",
       "      <td>690.991742</td>\n",
       "      <td>698.353453</td>\n",
       "      <td>2.174204e+06</td>\n",
       "    </tr>\n",
       "    <tr>\n",
       "      <th>2017-01-18</th>\n",
       "      <td>696.834693</td>\n",
       "      <td>708.118901</td>\n",
       "      <td>687.475173</td>\n",
       "      <td>695.528281</td>\n",
       "      <td>2.173007e+06</td>\n",
       "    </tr>\n",
       "    <tr>\n",
       "      <th>2017-01-19</th>\n",
       "      <td>693.835424</td>\n",
       "      <td>705.113196</td>\n",
       "      <td>684.531987</td>\n",
       "      <td>692.904507</td>\n",
       "      <td>2.172605e+06</td>\n",
       "    </tr>\n",
       "    <tr>\n",
       "      <th>2017-01-20</th>\n",
       "      <td>691.113086</td>\n",
       "      <td>702.391102</td>\n",
       "      <td>681.872818</td>\n",
       "      <td>690.633250</td>\n",
       "      <td>2.171991e+06</td>\n",
       "    </tr>\n",
       "    <tr>\n",
       "      <th>2017-01-23</th>\n",
       "      <td>688.629999</td>\n",
       "      <td>699.910871</td>\n",
       "      <td>679.452510</td>\n",
       "      <td>688.587136</td>\n",
       "      <td>2.171467e+06</td>\n",
       "    </tr>\n",
       "    <tr>\n",
       "      <th>2017-01-24</th>\n",
       "      <td>686.345663</td>\n",
       "      <td>697.629607</td>\n",
       "      <td>677.227987</td>\n",
       "      <td>686.693805</td>\n",
       "      <td>2.171156e+06</td>\n",
       "    </tr>\n",
       "    <tr>\n",
       "      <th>2017-01-25</th>\n",
       "      <td>684.241558</td>\n",
       "      <td>695.526820</td>\n",
       "      <td>675.181627</td>\n",
       "      <td>684.956545</td>\n",
       "      <td>2.170925e+06</td>\n",
       "    </tr>\n",
       "    <tr>\n",
       "      <th>2017-01-26</th>\n",
       "      <td>682.317523</td>\n",
       "      <td>693.602128</td>\n",
       "      <td>673.311480</td>\n",
       "      <td>683.345470</td>\n",
       "      <td>2.170876e+06</td>\n",
       "    </tr>\n",
       "    <tr>\n",
       "      <th>2017-01-27</th>\n",
       "      <td>680.547318</td>\n",
       "      <td>691.829932</td>\n",
       "      <td>671.592466</td>\n",
       "      <td>681.843150</td>\n",
       "      <td>2.170940e+06</td>\n",
       "    </tr>\n",
       "    <tr>\n",
       "      <th>2017-01-30</th>\n",
       "      <td>678.901240</td>\n",
       "      <td>690.181637</td>\n",
       "      <td>669.994755</td>\n",
       "      <td>680.433883</td>\n",
       "      <td>2.171099e+06</td>\n",
       "    </tr>\n",
       "    <tr>\n",
       "      <th>2017-01-31</th>\n",
       "      <td>677.369324</td>\n",
       "      <td>688.646708</td>\n",
       "      <td>668.508341</td>\n",
       "      <td>679.104869</td>\n",
       "      <td>2.171354e+06</td>\n",
       "    </tr>\n",
       "  </tbody>\n",
       "</table>\n",
       "</div>"
      ],
      "text/plain": [
       "                P_Open      P_High       P_Low     P_Close      P_Volume\n",
       "Date                                                                    \n",
       "2017-01-03  750.489295  761.828943  743.179063  757.935139  2.084629e+06\n",
       "2017-01-04  744.776052  756.137274  736.920379  750.080491  2.103658e+06\n",
       "2017-01-05  737.940986  749.358465  729.524182  740.404071  2.126712e+06\n",
       "2017-01-06  730.961799  742.409604  722.091862  730.967348  2.146070e+06\n",
       "2017-01-09  724.361723  735.803400  715.183395  722.532208  2.160047e+06\n",
       "2017-01-10  718.263570  729.671857  708.904573  715.352231  2.168949e+06\n",
       "2017-01-11  712.842028  724.208519  703.440166  709.783221  2.173246e+06\n",
       "2017-01-12  708.433849  719.754635  699.012108  705.490373  2.174542e+06\n",
       "2017-01-13  704.244864  715.538146  694.832321  701.686801  2.174619e+06\n",
       "2017-01-17  700.377730  711.659015  690.991742  698.353453  2.174204e+06\n",
       "2017-01-18  696.834693  708.118901  687.475173  695.528281  2.173007e+06\n",
       "2017-01-19  693.835424  705.113196  684.531987  692.904507  2.172605e+06\n",
       "2017-01-20  691.113086  702.391102  681.872818  690.633250  2.171991e+06\n",
       "2017-01-23  688.629999  699.910871  679.452510  688.587136  2.171467e+06\n",
       "2017-01-24  686.345663  697.629607  677.227987  686.693805  2.171156e+06\n",
       "2017-01-25  684.241558  695.526820  675.181627  684.956545  2.170925e+06\n",
       "2017-01-26  682.317523  693.602128  673.311480  683.345470  2.170876e+06\n",
       "2017-01-27  680.547318  691.829932  671.592466  681.843150  2.170940e+06\n",
       "2017-01-30  678.901240  690.181637  669.994755  680.433883  2.171099e+06\n",
       "2017-01-31  677.369324  688.646708  668.508341  679.104869  2.171354e+06"
      ]
     },
     "execution_count": 44,
     "metadata": {},
     "output_type": "execute_result"
    }
   ],
   "source": [
    "true_prediction"
   ]
  },
  {
   "cell_type": "code",
   "execution_count": 45,
   "metadata": {},
   "outputs": [
    {
     "data": {
      "text/html": [
       "<div>\n",
       "<style scoped>\n",
       "    .dataframe tbody tr th:only-of-type {\n",
       "        vertical-align: middle;\n",
       "    }\n",
       "\n",
       "    .dataframe tbody tr th {\n",
       "        vertical-align: top;\n",
       "    }\n",
       "\n",
       "    .dataframe thead th {\n",
       "        text-align: right;\n",
       "    }\n",
       "</style>\n",
       "<table border=\"1\" class=\"dataframe\">\n",
       "  <thead>\n",
       "    <tr style=\"text-align: right;\">\n",
       "      <th></th>\n",
       "      <th>Open</th>\n",
       "      <th>High</th>\n",
       "      <th>Low</th>\n",
       "      <th>Close</th>\n",
       "      <th>Volume</th>\n",
       "    </tr>\n",
       "    <tr>\n",
       "      <th>Date</th>\n",
       "      <th></th>\n",
       "      <th></th>\n",
       "      <th></th>\n",
       "      <th></th>\n",
       "      <th></th>\n",
       "    </tr>\n",
       "  </thead>\n",
       "  <tbody>\n",
       "    <tr>\n",
       "      <th>2017-01-03</th>\n",
       "      <td>778.81</td>\n",
       "      <td>789.63</td>\n",
       "      <td>775.80</td>\n",
       "      <td>786.14</td>\n",
       "      <td>1657300.0</td>\n",
       "    </tr>\n",
       "    <tr>\n",
       "      <th>2017-01-04</th>\n",
       "      <td>788.36</td>\n",
       "      <td>791.34</td>\n",
       "      <td>783.16</td>\n",
       "      <td>786.90</td>\n",
       "      <td>1073000.0</td>\n",
       "    </tr>\n",
       "    <tr>\n",
       "      <th>2017-01-05</th>\n",
       "      <td>786.08</td>\n",
       "      <td>794.48</td>\n",
       "      <td>785.02</td>\n",
       "      <td>794.02</td>\n",
       "      <td>1335200.0</td>\n",
       "    </tr>\n",
       "    <tr>\n",
       "      <th>2017-01-06</th>\n",
       "      <td>795.26</td>\n",
       "      <td>807.90</td>\n",
       "      <td>792.20</td>\n",
       "      <td>806.15</td>\n",
       "      <td>1640200.0</td>\n",
       "    </tr>\n",
       "    <tr>\n",
       "      <th>2017-01-09</th>\n",
       "      <td>806.40</td>\n",
       "      <td>809.97</td>\n",
       "      <td>802.83</td>\n",
       "      <td>806.65</td>\n",
       "      <td>1272400.0</td>\n",
       "    </tr>\n",
       "    <tr>\n",
       "      <th>2017-01-10</th>\n",
       "      <td>807.86</td>\n",
       "      <td>809.13</td>\n",
       "      <td>803.51</td>\n",
       "      <td>804.79</td>\n",
       "      <td>1176800.0</td>\n",
       "    </tr>\n",
       "    <tr>\n",
       "      <th>2017-01-11</th>\n",
       "      <td>805.00</td>\n",
       "      <td>808.15</td>\n",
       "      <td>801.37</td>\n",
       "      <td>807.91</td>\n",
       "      <td>1065900.0</td>\n",
       "    </tr>\n",
       "    <tr>\n",
       "      <th>2017-01-12</th>\n",
       "      <td>807.14</td>\n",
       "      <td>807.39</td>\n",
       "      <td>799.17</td>\n",
       "      <td>806.36</td>\n",
       "      <td>1353100.0</td>\n",
       "    </tr>\n",
       "    <tr>\n",
       "      <th>2017-01-13</th>\n",
       "      <td>807.48</td>\n",
       "      <td>811.22</td>\n",
       "      <td>806.69</td>\n",
       "      <td>807.88</td>\n",
       "      <td>1099200.0</td>\n",
       "    </tr>\n",
       "    <tr>\n",
       "      <th>2017-01-17</th>\n",
       "      <td>807.08</td>\n",
       "      <td>807.14</td>\n",
       "      <td>800.37</td>\n",
       "      <td>804.61</td>\n",
       "      <td>1362100.0</td>\n",
       "    </tr>\n",
       "    <tr>\n",
       "      <th>2017-01-18</th>\n",
       "      <td>805.81</td>\n",
       "      <td>806.21</td>\n",
       "      <td>800.99</td>\n",
       "      <td>806.07</td>\n",
       "      <td>1294400.0</td>\n",
       "    </tr>\n",
       "    <tr>\n",
       "      <th>2017-01-19</th>\n",
       "      <td>805.12</td>\n",
       "      <td>809.48</td>\n",
       "      <td>801.80</td>\n",
       "      <td>802.17</td>\n",
       "      <td>919300.0</td>\n",
       "    </tr>\n",
       "    <tr>\n",
       "      <th>2017-01-20</th>\n",
       "      <td>806.91</td>\n",
       "      <td>806.91</td>\n",
       "      <td>801.69</td>\n",
       "      <td>805.02</td>\n",
       "      <td>1670000.0</td>\n",
       "    </tr>\n",
       "    <tr>\n",
       "      <th>2017-01-23</th>\n",
       "      <td>807.25</td>\n",
       "      <td>820.87</td>\n",
       "      <td>803.74</td>\n",
       "      <td>819.31</td>\n",
       "      <td>1963600.0</td>\n",
       "    </tr>\n",
       "    <tr>\n",
       "      <th>2017-01-24</th>\n",
       "      <td>822.30</td>\n",
       "      <td>825.90</td>\n",
       "      <td>817.82</td>\n",
       "      <td>823.87</td>\n",
       "      <td>1474000.0</td>\n",
       "    </tr>\n",
       "    <tr>\n",
       "      <th>2017-01-25</th>\n",
       "      <td>829.62</td>\n",
       "      <td>835.77</td>\n",
       "      <td>825.06</td>\n",
       "      <td>835.67</td>\n",
       "      <td>1494500.0</td>\n",
       "    </tr>\n",
       "    <tr>\n",
       "      <th>2017-01-26</th>\n",
       "      <td>837.81</td>\n",
       "      <td>838.00</td>\n",
       "      <td>827.01</td>\n",
       "      <td>832.15</td>\n",
       "      <td>2973900.0</td>\n",
       "    </tr>\n",
       "    <tr>\n",
       "      <th>2017-01-27</th>\n",
       "      <td>834.71</td>\n",
       "      <td>841.95</td>\n",
       "      <td>820.44</td>\n",
       "      <td>823.31</td>\n",
       "      <td>2965800.0</td>\n",
       "    </tr>\n",
       "    <tr>\n",
       "      <th>2017-01-30</th>\n",
       "      <td>814.66</td>\n",
       "      <td>815.84</td>\n",
       "      <td>799.80</td>\n",
       "      <td>802.32</td>\n",
       "      <td>3246600.0</td>\n",
       "    </tr>\n",
       "    <tr>\n",
       "      <th>2017-01-31</th>\n",
       "      <td>796.86</td>\n",
       "      <td>801.25</td>\n",
       "      <td>790.52</td>\n",
       "      <td>796.79</td>\n",
       "      <td>2160600.0</td>\n",
       "    </tr>\n",
       "  </tbody>\n",
       "</table>\n",
       "</div>"
      ],
      "text/plain": [
       "              Open    High     Low   Close     Volume\n",
       "Date                                                 \n",
       "2017-01-03  778.81  789.63  775.80  786.14  1657300.0\n",
       "2017-01-04  788.36  791.34  783.16  786.90  1073000.0\n",
       "2017-01-05  786.08  794.48  785.02  794.02  1335200.0\n",
       "2017-01-06  795.26  807.90  792.20  806.15  1640200.0\n",
       "2017-01-09  806.40  809.97  802.83  806.65  1272400.0\n",
       "2017-01-10  807.86  809.13  803.51  804.79  1176800.0\n",
       "2017-01-11  805.00  808.15  801.37  807.91  1065900.0\n",
       "2017-01-12  807.14  807.39  799.17  806.36  1353100.0\n",
       "2017-01-13  807.48  811.22  806.69  807.88  1099200.0\n",
       "2017-01-17  807.08  807.14  800.37  804.61  1362100.0\n",
       "2017-01-18  805.81  806.21  800.99  806.07  1294400.0\n",
       "2017-01-19  805.12  809.48  801.80  802.17   919300.0\n",
       "2017-01-20  806.91  806.91  801.69  805.02  1670000.0\n",
       "2017-01-23  807.25  820.87  803.74  819.31  1963600.0\n",
       "2017-01-24  822.30  825.90  817.82  823.87  1474000.0\n",
       "2017-01-25  829.62  835.77  825.06  835.67  1494500.0\n",
       "2017-01-26  837.81  838.00  827.01  832.15  2973900.0\n",
       "2017-01-27  834.71  841.95  820.44  823.31  2965800.0\n",
       "2017-01-30  814.66  815.84  799.80  802.32  3246600.0\n",
       "2017-01-31  796.86  801.25  790.52  796.79  2160600.0"
      ]
     },
     "execution_count": 45,
     "metadata": {},
     "output_type": "execute_result"
    }
   ],
   "source": [
    "df_test"
   ]
  },
  {
   "cell_type": "code",
   "execution_count": 46,
   "metadata": {},
   "outputs": [],
   "source": [
    "final_df = pd.concat([df_test, true_prediction], axis=1)"
   ]
  },
  {
   "cell_type": "code",
   "execution_count": 47,
   "metadata": {},
   "outputs": [
    {
     "data": {
      "text/html": [
       "<div>\n",
       "<style scoped>\n",
       "    .dataframe tbody tr th:only-of-type {\n",
       "        vertical-align: middle;\n",
       "    }\n",
       "\n",
       "    .dataframe tbody tr th {\n",
       "        vertical-align: top;\n",
       "    }\n",
       "\n",
       "    .dataframe thead th {\n",
       "        text-align: right;\n",
       "    }\n",
       "</style>\n",
       "<table border=\"1\" class=\"dataframe\">\n",
       "  <thead>\n",
       "    <tr style=\"text-align: right;\">\n",
       "      <th></th>\n",
       "      <th>Open</th>\n",
       "      <th>High</th>\n",
       "      <th>Low</th>\n",
       "      <th>Close</th>\n",
       "      <th>Volume</th>\n",
       "      <th>P_Open</th>\n",
       "      <th>P_High</th>\n",
       "      <th>P_Low</th>\n",
       "      <th>P_Close</th>\n",
       "      <th>P_Volume</th>\n",
       "    </tr>\n",
       "    <tr>\n",
       "      <th>Date</th>\n",
       "      <th></th>\n",
       "      <th></th>\n",
       "      <th></th>\n",
       "      <th></th>\n",
       "      <th></th>\n",
       "      <th></th>\n",
       "      <th></th>\n",
       "      <th></th>\n",
       "      <th></th>\n",
       "      <th></th>\n",
       "    </tr>\n",
       "  </thead>\n",
       "  <tbody>\n",
       "    <tr>\n",
       "      <th>2017-01-03</th>\n",
       "      <td>778.81</td>\n",
       "      <td>789.63</td>\n",
       "      <td>775.80</td>\n",
       "      <td>786.14</td>\n",
       "      <td>1657300.0</td>\n",
       "      <td>750.489295</td>\n",
       "      <td>761.828943</td>\n",
       "      <td>743.179063</td>\n",
       "      <td>757.935139</td>\n",
       "      <td>2.084629e+06</td>\n",
       "    </tr>\n",
       "    <tr>\n",
       "      <th>2017-01-04</th>\n",
       "      <td>788.36</td>\n",
       "      <td>791.34</td>\n",
       "      <td>783.16</td>\n",
       "      <td>786.90</td>\n",
       "      <td>1073000.0</td>\n",
       "      <td>744.776052</td>\n",
       "      <td>756.137274</td>\n",
       "      <td>736.920379</td>\n",
       "      <td>750.080491</td>\n",
       "      <td>2.103658e+06</td>\n",
       "    </tr>\n",
       "    <tr>\n",
       "      <th>2017-01-05</th>\n",
       "      <td>786.08</td>\n",
       "      <td>794.48</td>\n",
       "      <td>785.02</td>\n",
       "      <td>794.02</td>\n",
       "      <td>1335200.0</td>\n",
       "      <td>737.940986</td>\n",
       "      <td>749.358465</td>\n",
       "      <td>729.524182</td>\n",
       "      <td>740.404071</td>\n",
       "      <td>2.126712e+06</td>\n",
       "    </tr>\n",
       "    <tr>\n",
       "      <th>2017-01-06</th>\n",
       "      <td>795.26</td>\n",
       "      <td>807.90</td>\n",
       "      <td>792.20</td>\n",
       "      <td>806.15</td>\n",
       "      <td>1640200.0</td>\n",
       "      <td>730.961799</td>\n",
       "      <td>742.409604</td>\n",
       "      <td>722.091862</td>\n",
       "      <td>730.967348</td>\n",
       "      <td>2.146070e+06</td>\n",
       "    </tr>\n",
       "    <tr>\n",
       "      <th>2017-01-09</th>\n",
       "      <td>806.40</td>\n",
       "      <td>809.97</td>\n",
       "      <td>802.83</td>\n",
       "      <td>806.65</td>\n",
       "      <td>1272400.0</td>\n",
       "      <td>724.361723</td>\n",
       "      <td>735.803400</td>\n",
       "      <td>715.183395</td>\n",
       "      <td>722.532208</td>\n",
       "      <td>2.160047e+06</td>\n",
       "    </tr>\n",
       "    <tr>\n",
       "      <th>2017-01-10</th>\n",
       "      <td>807.86</td>\n",
       "      <td>809.13</td>\n",
       "      <td>803.51</td>\n",
       "      <td>804.79</td>\n",
       "      <td>1176800.0</td>\n",
       "      <td>718.263570</td>\n",
       "      <td>729.671857</td>\n",
       "      <td>708.904573</td>\n",
       "      <td>715.352231</td>\n",
       "      <td>2.168949e+06</td>\n",
       "    </tr>\n",
       "    <tr>\n",
       "      <th>2017-01-11</th>\n",
       "      <td>805.00</td>\n",
       "      <td>808.15</td>\n",
       "      <td>801.37</td>\n",
       "      <td>807.91</td>\n",
       "      <td>1065900.0</td>\n",
       "      <td>712.842028</td>\n",
       "      <td>724.208519</td>\n",
       "      <td>703.440166</td>\n",
       "      <td>709.783221</td>\n",
       "      <td>2.173246e+06</td>\n",
       "    </tr>\n",
       "    <tr>\n",
       "      <th>2017-01-12</th>\n",
       "      <td>807.14</td>\n",
       "      <td>807.39</td>\n",
       "      <td>799.17</td>\n",
       "      <td>806.36</td>\n",
       "      <td>1353100.0</td>\n",
       "      <td>708.433849</td>\n",
       "      <td>719.754635</td>\n",
       "      <td>699.012108</td>\n",
       "      <td>705.490373</td>\n",
       "      <td>2.174542e+06</td>\n",
       "    </tr>\n",
       "    <tr>\n",
       "      <th>2017-01-13</th>\n",
       "      <td>807.48</td>\n",
       "      <td>811.22</td>\n",
       "      <td>806.69</td>\n",
       "      <td>807.88</td>\n",
       "      <td>1099200.0</td>\n",
       "      <td>704.244864</td>\n",
       "      <td>715.538146</td>\n",
       "      <td>694.832321</td>\n",
       "      <td>701.686801</td>\n",
       "      <td>2.174619e+06</td>\n",
       "    </tr>\n",
       "    <tr>\n",
       "      <th>2017-01-17</th>\n",
       "      <td>807.08</td>\n",
       "      <td>807.14</td>\n",
       "      <td>800.37</td>\n",
       "      <td>804.61</td>\n",
       "      <td>1362100.0</td>\n",
       "      <td>700.377730</td>\n",
       "      <td>711.659015</td>\n",
       "      <td>690.991742</td>\n",
       "      <td>698.353453</td>\n",
       "      <td>2.174204e+06</td>\n",
       "    </tr>\n",
       "    <tr>\n",
       "      <th>2017-01-18</th>\n",
       "      <td>805.81</td>\n",
       "      <td>806.21</td>\n",
       "      <td>800.99</td>\n",
       "      <td>806.07</td>\n",
       "      <td>1294400.0</td>\n",
       "      <td>696.834693</td>\n",
       "      <td>708.118901</td>\n",
       "      <td>687.475173</td>\n",
       "      <td>695.528281</td>\n",
       "      <td>2.173007e+06</td>\n",
       "    </tr>\n",
       "    <tr>\n",
       "      <th>2017-01-19</th>\n",
       "      <td>805.12</td>\n",
       "      <td>809.48</td>\n",
       "      <td>801.80</td>\n",
       "      <td>802.17</td>\n",
       "      <td>919300.0</td>\n",
       "      <td>693.835424</td>\n",
       "      <td>705.113196</td>\n",
       "      <td>684.531987</td>\n",
       "      <td>692.904507</td>\n",
       "      <td>2.172605e+06</td>\n",
       "    </tr>\n",
       "    <tr>\n",
       "      <th>2017-01-20</th>\n",
       "      <td>806.91</td>\n",
       "      <td>806.91</td>\n",
       "      <td>801.69</td>\n",
       "      <td>805.02</td>\n",
       "      <td>1670000.0</td>\n",
       "      <td>691.113086</td>\n",
       "      <td>702.391102</td>\n",
       "      <td>681.872818</td>\n",
       "      <td>690.633250</td>\n",
       "      <td>2.171991e+06</td>\n",
       "    </tr>\n",
       "    <tr>\n",
       "      <th>2017-01-23</th>\n",
       "      <td>807.25</td>\n",
       "      <td>820.87</td>\n",
       "      <td>803.74</td>\n",
       "      <td>819.31</td>\n",
       "      <td>1963600.0</td>\n",
       "      <td>688.629999</td>\n",
       "      <td>699.910871</td>\n",
       "      <td>679.452510</td>\n",
       "      <td>688.587136</td>\n",
       "      <td>2.171467e+06</td>\n",
       "    </tr>\n",
       "    <tr>\n",
       "      <th>2017-01-24</th>\n",
       "      <td>822.30</td>\n",
       "      <td>825.90</td>\n",
       "      <td>817.82</td>\n",
       "      <td>823.87</td>\n",
       "      <td>1474000.0</td>\n",
       "      <td>686.345663</td>\n",
       "      <td>697.629607</td>\n",
       "      <td>677.227987</td>\n",
       "      <td>686.693805</td>\n",
       "      <td>2.171156e+06</td>\n",
       "    </tr>\n",
       "    <tr>\n",
       "      <th>2017-01-25</th>\n",
       "      <td>829.62</td>\n",
       "      <td>835.77</td>\n",
       "      <td>825.06</td>\n",
       "      <td>835.67</td>\n",
       "      <td>1494500.0</td>\n",
       "      <td>684.241558</td>\n",
       "      <td>695.526820</td>\n",
       "      <td>675.181627</td>\n",
       "      <td>684.956545</td>\n",
       "      <td>2.170925e+06</td>\n",
       "    </tr>\n",
       "    <tr>\n",
       "      <th>2017-01-26</th>\n",
       "      <td>837.81</td>\n",
       "      <td>838.00</td>\n",
       "      <td>827.01</td>\n",
       "      <td>832.15</td>\n",
       "      <td>2973900.0</td>\n",
       "      <td>682.317523</td>\n",
       "      <td>693.602128</td>\n",
       "      <td>673.311480</td>\n",
       "      <td>683.345470</td>\n",
       "      <td>2.170876e+06</td>\n",
       "    </tr>\n",
       "    <tr>\n",
       "      <th>2017-01-27</th>\n",
       "      <td>834.71</td>\n",
       "      <td>841.95</td>\n",
       "      <td>820.44</td>\n",
       "      <td>823.31</td>\n",
       "      <td>2965800.0</td>\n",
       "      <td>680.547318</td>\n",
       "      <td>691.829932</td>\n",
       "      <td>671.592466</td>\n",
       "      <td>681.843150</td>\n",
       "      <td>2.170940e+06</td>\n",
       "    </tr>\n",
       "    <tr>\n",
       "      <th>2017-01-30</th>\n",
       "      <td>814.66</td>\n",
       "      <td>815.84</td>\n",
       "      <td>799.80</td>\n",
       "      <td>802.32</td>\n",
       "      <td>3246600.0</td>\n",
       "      <td>678.901240</td>\n",
       "      <td>690.181637</td>\n",
       "      <td>669.994755</td>\n",
       "      <td>680.433883</td>\n",
       "      <td>2.171099e+06</td>\n",
       "    </tr>\n",
       "    <tr>\n",
       "      <th>2017-01-31</th>\n",
       "      <td>796.86</td>\n",
       "      <td>801.25</td>\n",
       "      <td>790.52</td>\n",
       "      <td>796.79</td>\n",
       "      <td>2160600.0</td>\n",
       "      <td>677.369324</td>\n",
       "      <td>688.646708</td>\n",
       "      <td>668.508341</td>\n",
       "      <td>679.104869</td>\n",
       "      <td>2.171354e+06</td>\n",
       "    </tr>\n",
       "  </tbody>\n",
       "</table>\n",
       "</div>"
      ],
      "text/plain": [
       "              Open    High     Low   Close     Volume      P_Open      P_High  \\\n",
       "Date                                                                            \n",
       "2017-01-03  778.81  789.63  775.80  786.14  1657300.0  750.489295  761.828943   \n",
       "2017-01-04  788.36  791.34  783.16  786.90  1073000.0  744.776052  756.137274   \n",
       "2017-01-05  786.08  794.48  785.02  794.02  1335200.0  737.940986  749.358465   \n",
       "2017-01-06  795.26  807.90  792.20  806.15  1640200.0  730.961799  742.409604   \n",
       "2017-01-09  806.40  809.97  802.83  806.65  1272400.0  724.361723  735.803400   \n",
       "2017-01-10  807.86  809.13  803.51  804.79  1176800.0  718.263570  729.671857   \n",
       "2017-01-11  805.00  808.15  801.37  807.91  1065900.0  712.842028  724.208519   \n",
       "2017-01-12  807.14  807.39  799.17  806.36  1353100.0  708.433849  719.754635   \n",
       "2017-01-13  807.48  811.22  806.69  807.88  1099200.0  704.244864  715.538146   \n",
       "2017-01-17  807.08  807.14  800.37  804.61  1362100.0  700.377730  711.659015   \n",
       "2017-01-18  805.81  806.21  800.99  806.07  1294400.0  696.834693  708.118901   \n",
       "2017-01-19  805.12  809.48  801.80  802.17   919300.0  693.835424  705.113196   \n",
       "2017-01-20  806.91  806.91  801.69  805.02  1670000.0  691.113086  702.391102   \n",
       "2017-01-23  807.25  820.87  803.74  819.31  1963600.0  688.629999  699.910871   \n",
       "2017-01-24  822.30  825.90  817.82  823.87  1474000.0  686.345663  697.629607   \n",
       "2017-01-25  829.62  835.77  825.06  835.67  1494500.0  684.241558  695.526820   \n",
       "2017-01-26  837.81  838.00  827.01  832.15  2973900.0  682.317523  693.602128   \n",
       "2017-01-27  834.71  841.95  820.44  823.31  2965800.0  680.547318  691.829932   \n",
       "2017-01-30  814.66  815.84  799.80  802.32  3246600.0  678.901240  690.181637   \n",
       "2017-01-31  796.86  801.25  790.52  796.79  2160600.0  677.369324  688.646708   \n",
       "\n",
       "                 P_Low     P_Close      P_Volume  \n",
       "Date                                              \n",
       "2017-01-03  743.179063  757.935139  2.084629e+06  \n",
       "2017-01-04  736.920379  750.080491  2.103658e+06  \n",
       "2017-01-05  729.524182  740.404071  2.126712e+06  \n",
       "2017-01-06  722.091862  730.967348  2.146070e+06  \n",
       "2017-01-09  715.183395  722.532208  2.160047e+06  \n",
       "2017-01-10  708.904573  715.352231  2.168949e+06  \n",
       "2017-01-11  703.440166  709.783221  2.173246e+06  \n",
       "2017-01-12  699.012108  705.490373  2.174542e+06  \n",
       "2017-01-13  694.832321  701.686801  2.174619e+06  \n",
       "2017-01-17  690.991742  698.353453  2.174204e+06  \n",
       "2017-01-18  687.475173  695.528281  2.173007e+06  \n",
       "2017-01-19  684.531987  692.904507  2.172605e+06  \n",
       "2017-01-20  681.872818  690.633250  2.171991e+06  \n",
       "2017-01-23  679.452510  688.587136  2.171467e+06  \n",
       "2017-01-24  677.227987  686.693805  2.171156e+06  \n",
       "2017-01-25  675.181627  684.956545  2.170925e+06  \n",
       "2017-01-26  673.311480  683.345470  2.170876e+06  \n",
       "2017-01-27  671.592466  681.843150  2.170940e+06  \n",
       "2017-01-30  669.994755  680.433883  2.171099e+06  \n",
       "2017-01-31  668.508341  679.104869  2.171354e+06  "
      ]
     },
     "execution_count": 47,
     "metadata": {},
     "output_type": "execute_result"
    }
   ],
   "source": [
    "final_df"
   ]
  },
  {
   "cell_type": "code",
   "execution_count": 48,
   "metadata": {},
   "outputs": [
    {
     "data": {
      "text/plain": [
       "<AxesSubplot:xlabel='Date'>"
      ]
     },
     "execution_count": 48,
     "metadata": {},
     "output_type": "execute_result"
    },
    {
     "data": {
      "image/png": "[encoded data removed]",
      "text/plain": [
       "<Figure size 432x288 with 1 Axes>"
      ]
     },
     "metadata": {
      "needs_background": "light"
     },
     "output_type": "display_data"
    }
   ],
   "source": [
    "final_df[['Open','P_Open']].plot()"
   ]
  },
  {
   "cell_type": "code",
   "execution_count": 49,
   "metadata": {},
   "outputs": [
    {
     "data": {
      "text/plain": [
       "<AxesSubplot:xlabel='Date'>"
      ]
     },
     "execution_count": 49,
     "metadata": {},
     "output_type": "execute_result"
    },
    {
     "data": {
      "image/png": "[encoded data removed]",
      "text/plain": [
       "<Figure size 432x288 with 1 Axes>"
      ]
     },
     "metadata": {
      "needs_background": "light"
     },
     "output_type": "display_data"
    }
   ],
   "source": [
    "final_df[['Close','P_Close']].plot()"
   ]
  },
  {
   "cell_type": "code",
   "execution_count": 50,
   "metadata": {},
   "outputs": [
    {
     "data": {
      "text/plain": [
       "<AxesSubplot:xlabel='Date'>"
      ]
     },
     "execution_count": 50,
     "metadata": {},
     "output_type": "execute_result"
    },
    {
     "data": {
      "image/png": "[encoded data removed]",
      "text/plain": [
       "<Figure size 432x288 with 1 Axes>"
      ]
     },
     "metadata": {
      "needs_background": "light"
     },
     "output_type": "display_data"
    }
   ],
   "source": [
    "final_df[['High','P_High']].plot()"
   ]
  },
  {
   "cell_type": "code",
   "execution_count": 51,
   "metadata": {},
   "outputs": [
    {
     "data": {
      "text/plain": [
       "<AxesSubplot:xlabel='Date'>"
      ]
     },
     "execution_count": 51,
     "metadata": {},
     "output_type": "execute_result"
    },
    {
     "data": {
      "image/png": "[encoded data removed]",
      "text/plain": [
       "<Figure size 432x288 with 1 Axes>"
      ]
     },
     "metadata": {
      "needs_background": "light"
     },
     "output_type": "display_data"
    }
   ],
   "source": [
    "final_df[['Low','P_Low']].plot()"
   ]
  },
  {
   "cell_type": "code",
   "execution_count": 52,
   "metadata": {},
   "outputs": [
    {
     "data": {
      "text/plain": [
       "<AxesSubplot:xlabel='Date'>"
      ]
     },
     "execution_count": 52,
     "metadata": {},
     "output_type": "execute_result"
    },
    {
     "data": {
      "image/png": "[encoded data removed]",
      "text/plain": [
       "<Figure size 432x288 with 1 Axes>"
      ]
     },
     "metadata": {
      "needs_background": "light"
     },
     "output_type": "display_data"
    }
   ],
   "source": [
    "final_df[['Volume','P_Volume']].plot()"
   ]
  },
  {
   "cell_type": "code",
   "execution_count": null,
   "metadata": {},
   "outputs": [],
   "source": []
  }
 ],
 "metadata": {
  "kernelspec": {
   "display_name": "Python 3",
   "language": "python",
   "name": "python3"
  },
  "language_info": {
   "codemirror_mode": {
    "name": "ipython",
    "version": 3
   },
   "file_extension": ".py",
   "mimetype": "text/x-python",
   "name": "python",
   "nbconvert_exporter": "python",
   "pygments_lexer": "ipython3",
   "version": "3.7.9"
  }
 },
 "nbformat": 4,
 "nbformat_minor": 4
}
